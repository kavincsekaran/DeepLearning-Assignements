{
 "cells": [
  {
   "cell_type": "code",
   "execution_count": 3,
   "metadata": {},
   "outputs": [],
   "source": [
    "import tensorflow as tf\n",
    "import numpy as np"
   ]
  },
  {
   "cell_type": "code",
   "execution_count": 5,
   "metadata": {},
   "outputs": [],
   "source": [
    "trainingImages = np.load(\"/home/kavin/Silo/CollegeWork/DeepLearning/HW/HW7/mnist_train_images.npy\")\n",
    "trainingLabels = np.load(\"/home/kavin/Silo/CollegeWork/DeepLearning/HW/HW7/mnist_train_labels.npy\")\n",
    "validationImages = np.load(\"/home/kavin/Silo/CollegeWork/DeepLearning/HW/HW7/mnist_validation_images.npy\")\n",
    "validationLabels = np.load(\"/home/kavin/Silo/CollegeWork/DeepLearning/HW/HW7/mnist_validation_labels.npy\")\n",
    "testingImages = np.load(\"/home/kavin/Silo/CollegeWork/DeepLearning/HW/HW7/mnist_test_images.npy\")\n",
    "testingLabels = np.load(\"/home/kavin/Silo/CollegeWork/DeepLearning/HW/HW7/mnist_test_labels.npy\")"
   ]
  },
  {
   "cell_type": "code",
   "execution_count": 17,
   "metadata": {},
   "outputs": [],
   "source": [
    "input_x=trainingImages\n",
    "labels=trainingLabels\n",
    "alpha=0.001\n",
    "\n",
    "input_layer = tf.reshape(input_x, [-1, 784])\n",
    "hidden_layer_1 = tf.layers.dense(inputs=input_layer, units=1024, activation=tf.nn.relu)\n",
    "#hidden_layer_2 = tf.layers.dense(inputs=pool2_flat, units=1024, activation=tf.nn.relu)\n",
    "output_layer = tf.layers.dense(inputs=hidden_layer_1, units=10)"
   ]
  },
  {
   "cell_type": "code",
   "execution_count": 18,
   "metadata": {},
   "outputs": [
    {
     "data": {
      "text/plain": [
       "<tf.Tensor 'dense_16/BiasAdd:0' shape=(55000, 10) dtype=float32>"
      ]
     },
     "execution_count": 18,
     "metadata": {},
     "output_type": "execute_result"
    }
   ],
   "source": [
    "output_layer"
   ]
  },
  {
   "cell_type": "code",
   "execution_count": 19,
   "metadata": {},
   "outputs": [],
   "source": [
    "loss = tf.losses.sigmoid_cross_entropy(multi_class_labels=labels, logits=output_layer)\n",
    "\n",
    "optimizer = tf.train.GradientDescentOptimizer(learning_rate=alpha)\n",
    "train_op = optimizer.minimize(\n",
    "            loss=loss,\n",
    "            global_step=tf.train.get_global_step())\n",
    "\n",
    "  "
   ]
  }
 ],
 "metadata": {
  "kernelspec": {
   "display_name": "tfcpu",
   "language": "python",
   "name": "tfcpu"
  },
  "language_info": {
   "codemirror_mode": {
    "name": "ipython",
    "version": 2
   },
   "file_extension": ".py",
   "mimetype": "text/x-python",
   "name": "python",
   "nbconvert_exporter": "python",
   "pygments_lexer": "ipython2",
   "version": "2.7.12"
  }
 },
 "nbformat": 4,
 "nbformat_minor": 2
}
