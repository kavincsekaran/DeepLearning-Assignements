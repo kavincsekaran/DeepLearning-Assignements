{
 "cells": [
  {
   "cell_type": "code",
   "execution_count": 3,
   "metadata": {},
   "outputs": [],
   "source": [
    "import tensorflow as tf\n",
    "import numpy as np"
   ]
  },
  {
   "cell_type": "code",
   "execution_count": 5,
   "metadata": {},
   "outputs": [],
   "source": [
    "trainingImages = np.load(\"/home/kavin/Silo/CollegeWork/DeepLearning/HW/HW7/mnist_train_images.npy\")\n",
    "trainingLabels = np.load(\"/home/kavin/Silo/CollegeWork/DeepLearning/HW/HW7/mnist_train_labels.npy\")\n",
    "validationImages = np.load(\"/home/kavin/Silo/CollegeWork/DeepLearning/HW/HW7/mnist_validation_images.npy\")\n",
    "validationLabels = np.load(\"/home/kavin/Silo/CollegeWork/DeepLearning/HW/HW7/mnist_validation_labels.npy\")\n",
    "testingImages = np.load(\"/home/kavin/Silo/CollegeWork/DeepLearning/HW/HW7/mnist_test_images.npy\")\n",
    "testingLabels = np.load(\"/home/kavin/Silo/CollegeWork/DeepLearning/HW/HW7/mnist_test_labels.npy\")"
   ]
  }
 ],
 "metadata": {
  "kernelspec": {
   "display_name": "tensorflow",
   "language": "python",
   "name": "tensorflow"
  },
  "language_info": {
   "codemirror_mode": {
    "name": "ipython",
    "version": 2
   },
   "file_extension": ".py",
   "mimetype": "text/x-python",
   "name": "python",
   "nbconvert_exporter": "python",
   "pygments_lexer": "ipython2",
   "version": "2.7.12"
  }
 },
 "nbformat": 4,
 "nbformat_minor": 2
}
