{
 "cells": [
  {
   "cell_type": "code",
   "execution_count": 1,
   "metadata": {},
   "outputs": [],
   "source": [
    "import numpy as np"
   ]
  },
  {
   "cell_type": "code",
   "execution_count": 2,
   "metadata": {},
   "outputs": [],
   "source": [
    "def generate_data():\n",
    "    total_series_length = 50\n",
    "    echo_step = 2  # 2-back task\n",
    "    batch_size = 1\n",
    "    x = np.random.choice(2, total_series_length, p=[0.5, 0.5])\n",
    "    y = np.roll(x, echo_step)\n",
    "    y[0:echo_step] = 0\n",
    "    y = list(y)\n",
    "    return (x, y)"
   ]
  },
  {
   "cell_type": "code",
   "execution_count": 3,
   "metadata": {},
   "outputs": [],
   "source": [
    "def cost(x,y,U,V,w):\n",
    "    \n",
    "    y_hat,h = forward(x,y,U,V,w)\n",
    "#     print(\"Y_HAT\",max(y_hat),min(y_hat))\n",
    "#     print(\"Y\",y)\n",
    "#     print(\"delta\",(y-y_hat))\n",
    "    cost = (1/2) * np.sum((y_hat.T[0] - y)**2)\n",
    "    return cost"
   ]
  },
  {
   "cell_type": "code",
   "execution_count": 4,
   "metadata": {},
   "outputs": [],
   "source": [
    "def forward(x,y,U,V,w):\n",
    "    w = w.reshape(6,1)\n",
    "#         print(\"Shape of U\",self.U.shape)\n",
    "#         print(\"Shape of V\",self.V.shape)\n",
    "#         print(\"Shape of W\",self.w.shape)\n",
    "        \n",
    "    T = len(x)\n",
    "    h = np.zeros((T+1,numHidden))\n",
    "    h[-1] = np.zeros((numHidden))\n",
    "    y_hat = np.zeros((T,1))\n",
    "    z_t = np.zeros((T+1,numHidden))\n",
    "\n",
    "#         print(\"Shape of H\",h.shape)\n",
    "#         print(\"Shape of Z\",z_t.shape)\n",
    "#         print(\"Shape of H[t]\",h[0].shape)\n",
    "\n",
    "    for t in np.arange(T):\n",
    "        part1 = (np.dot(U,(h[t-1].reshape(6,1)))).reshape(1,6)\n",
    "        part2 = np.dot(V,x[t]).reshape(1,6)\n",
    "\n",
    "        z_t[t] = (part1 + part2)\n",
    "\n",
    "        h[t] = np.tanh(z_t[t])\n",
    "        y_hat[t] = np.dot(h[t],w)\n",
    "\n",
    "#         print(\"Shape of y_hat\",y_hat.shape)    \n",
    "\n",
    "    return y_hat,h"
   ]
  },
  {
   "cell_type": "code",
   "execution_count": 14,
   "metadata": {},
   "outputs": [],
   "source": [
    "def backward (x,y,U,V,w):\n",
    "    T = len(y)\n",
    "    y_hat,h = forward(x,y,U,V,w)\n",
    "    w = w.reshape(6,1)    \n",
    "    dJdU = np.zeros(U.shape)\n",
    "    dJdV = np.zeros(V.shape)\n",
    "    dJdW = np.zeros(w.shape)\n",
    "#     print(\"Shape of Y\",len(y))\n",
    "#     print(\"Shape of Y_HAT\",y_hat.shape)\n",
    "#     print(\"Shape of H\",h[0].shape)\n",
    "    y = np.asarray(y).reshape(len(y),1)\n",
    "    delta = (y_hat-y)\n",
    "\n",
    "#     print(\"Shape of DELTA\",delta)\n",
    "    for t in np.arange(T):\n",
    "        dJdW += delta[t]*(h[t].reshape(6,1))\n",
    "\n",
    "        delta_t = w.dot(delta[t])*(1-h[t]**2)\n",
    "        print(np.arange(max(0,t-4),t+1)[::-1])\n",
    "        for step in np.arange(max(0,t-4),t+1)[::-1]:\n",
    "            print(step)\n",
    "            dJdU += np.outer(delta_t,h[step]-1)\n",
    "            dJdV[:,x[step]-1] += delta_t\n",
    "\n",
    "            delta_t = U.T.dot(delta_t)*(1-h[step-1]**2)\n",
    "\n",
    "    return [dJdW,dJdU,dJdV]"
   ]
  },
  {
   "cell_type": "code",
   "execution_count": 13,
   "metadata": {},
   "outputs": [
    {
     "data": {
      "text/plain": [
       "array([1., 1., 1., 1., 1., 1.])"
      ]
     },
     "execution_count": 13,
     "metadata": {},
     "output_type": "execute_result"
    }
   ],
   "source": [
    "d=np.zeros(6)\n",
    "d+=1\n",
    "d"
   ]
  },
  {
   "cell_type": "code",
   "execution_count": 15,
   "metadata": {},
   "outputs": [],
   "source": [
    "def update_sgd(x,y,U,V,w):\n",
    "    w = w.reshape(6,1)\n",
    "    dW,dU,dV = backward(x,y,U,V,w)\n",
    "    print(dW, dU, dV)\n",
    "    w -= (1e-1*dW)\n",
    "    U -= (1e-5*dU)\n",
    "    V -= (1e-7*dV)"
   ]
  },
  {
   "cell_type": "code",
   "execution_count": 6,
   "metadata": {},
   "outputs": [],
   "source": [
    "def train(x,y,U,V,w,epoch):\n",
    "    costs = []\n",
    "    for i in np.arange(0,epoch):\n",
    "        for j in np.arange(len(y)):\n",
    "            update_sgd(x,y,U,V,w)\n",
    "            print(\"Cost :\",cost(x,y,U,V,w))"
   ]
  },
  {
   "cell_type": "code",
   "execution_count": 16,
   "metadata": {},
   "outputs": [
    {
     "name": "stdout",
     "output_type": "stream",
     "text": [
      "(6,)\n",
      "(6,)\n",
      "(6,)\n",
      "(6,)\n",
      "(6,)\n",
      "(6,)\n",
      "(6,)\n",
      "(6,)\n",
      "(6,)\n",
      "(6,)\n",
      "(6,)\n",
      "(6,)\n",
      "(6,)\n",
      "(6,)\n",
      "(6,)\n",
      "(6,)\n",
      "(6,)\n",
      "(6,)\n",
      "(6,)\n",
      "(6,)\n",
      "(6,)\n",
      "(6,)\n",
      "(6,)\n",
      "(6,)\n",
      "(6,)\n",
      "(6,)\n",
      "(6,)\n",
      "(6,)\n",
      "(6,)\n",
      "(6,)\n",
      "(6,)\n",
      "(6,)\n",
      "(6,)\n",
      "(6,)\n",
      "(6,)\n",
      "(6,)\n",
      "(6,)\n",
      "(6,)\n",
      "(6,)\n",
      "(6,)\n",
      "(6,)\n",
      "(6,)\n",
      "(6,)\n",
      "(6,)\n",
      "(6,)\n",
      "(6,)\n",
      "(6,)\n",
      "(6,)\n",
      "(6,)\n",
      "(6,)\n"
     ]
    },
    {
     "data": {
      "text/plain": [
       "[array([[-0.55059886],\n",
       "        [ 1.8036722 ],\n",
       "        [ 1.31261698],\n",
       "        [-1.04802716],\n",
       "        [ 1.53512148],\n",
       "        [ 0.85983119]]),\n",
       " array([[-1.24578139, -1.35136404, -1.32259938, -1.21162778, -1.33265046,\n",
       "         -1.2998601 ],\n",
       "        [-1.39093164, -1.53409501, -1.50391992, -1.36705731, -1.51809976,\n",
       "         -1.47628138],\n",
       "        [-2.15272628, -2.34555548, -2.31287631, -2.125142  , -2.33101118,\n",
       "         -2.27851307],\n",
       "        [-0.90579683, -0.9730153 , -0.96619384, -0.89904647, -0.97198516,\n",
       "         -0.95585612],\n",
       "        [-3.2690251 , -3.54821173, -3.49262042, -3.21185812, -3.51871558,\n",
       "         -3.43987449],\n",
       "        [-0.90100191, -0.97665412, -0.95131832, -0.86892044, -0.95863575,\n",
       "         -0.93331878]]),\n",
       " array([[1.26356768],\n",
       "        [1.42720012],\n",
       "        [2.20550825],\n",
       "        [0.92655983],\n",
       "        [3.33575961],\n",
       "        [0.90921582]])]"
      ]
     },
     "execution_count": 16,
     "metadata": {},
     "output_type": "execute_result"
    }
   ],
   "source": [
    "numHidden = 6\n",
    "numInput = 1\n",
    "x,y = generate_data()\n",
    "x = np.asarray(x)\n",
    "y = np.asarray(y)\n",
    "U = np.random.randn(numHidden, numHidden) * 1e-1\n",
    "V = np.random.randn(numHidden, numInput) * 1e-1\n",
    "w = np.random.randn(numHidden) * 1e-1\n",
    "backward(x,y,U,V,w)\n",
    "#train(x,y,U,V,w,250)"
   ]
  }
 ],
 "metadata": {
  "kernelspec": {
   "display_name": "Python 2",
   "language": "python",
   "name": "python2"
  },
  "language_info": {
   "codemirror_mode": {
    "name": "ipython",
    "version": 2
   },
   "file_extension": ".py",
   "mimetype": "text/x-python",
   "name": "python",
   "nbconvert_exporter": "python",
   "pygments_lexer": "ipython2",
   "version": "2.7.12"
  }
 },
 "nbformat": 4,
 "nbformat_minor": 2
}
