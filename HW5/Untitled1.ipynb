{
 "cells": [
  {
   "cell_type": "code",
   "execution_count": 2,
   "metadata": {},
   "outputs": [],
   "source": [
    "import numpy as np"
   ]
  },
  {
   "cell_type": "code",
   "execution_count": 150,
   "metadata": {},
   "outputs": [],
   "source": [
    "def softmax(z):\n",
    "    return(np.exp(z).T/np.sum(np.exp(z), axis=1)).T\n",
    "\n",
    "def relu(z):\n",
    "    return(np.maximum(np.zeros(z.shape), z))\n",
    "\n",
    "def relu_prime(z):\n",
    "    return(np.greater(z, np.zeros(z.shape)).astype(int))\n",
    "    \n",
    "def J_CE(w1, b1, w2, b2, images, labels):\n",
    "    y_hat=softmax(np.dot(relu(np.dot(images, w1)+b1) , w2)+b2)\n",
    "    m=len(images)\n",
    "    j_ce=np.sum(np.multiply(labels, np.log(y_hat+1e-9)))\n",
    "    j_ce=-(j_ce/m)\n",
    "    y_hat=np.argmax(y_hat, axis=1)\n",
    "    y=np.argmax(labels, axis=1)\n",
    "    accuracy = np.sum(np.equal(y_hat,y))/(float(len(labels)))\n",
    "    return(j_ce, accuracy)"
   ]
  },
  {
   "cell_type": "code",
   "execution_count": null,
   "metadata": {},
   "outputs": [],
   "source": []
  },
  {
   "cell_type": "code",
   "execution_count": 147,
   "metadata": {},
   "outputs": [],
   "source": [
    "def accuracy(w, images, labels):\n",
    "    y_hat=np.argmax(sigma_z(w, faces), axis=1)\n",
    "    y=np.argmax(labels, axis=1)\n",
    "    accuracy = np.sum(np.equal(y_hat,y))/(float(len(labels)))\n",
    "    return accuracy\n",
    "\n",
    "def findBestHyperparameters():\n",
    "    return w1, w2, b1, b2\n",
    " "
   ]
  },
  {
   "cell_type": "code",
   "execution_count": 137,
   "metadata": {},
   "outputs": [],
   "source": [
    "input_size=trainingImages.shape[1]\n",
    "hidden_layer_size=30\n",
    "output_size=trainingLabels.shape[1]\n",
    "\n",
    "w1=np.random.randn(input_size, hidden_layer_size)\n",
    "b1=np.ones(hidden_layer_size)\n",
    "w2=np.random.randn(hidden_layer_size, output_size)\n",
    "b2=np.ones(output_size)"
   ]
  },
  {
   "cell_type": "code",
   "execution_count": null,
   "metadata": {},
   "outputs": [],
   "source": [
    "new_w1, new_b1, new_w2, new_b2=stochastic_gradient_descent(w1, b1, w2, b2, trainingImages, trainingLabels, 50, 0.0007)"
   ]
  },
  {
   "cell_type": "code",
   "execution_count": 140,
   "metadata": {},
   "outputs": [
    {
     "data": {
      "text/plain": [
       "(784, 30)"
      ]
     },
     "execution_count": 140,
     "metadata": {},
     "output_type": "execute_result"
    }
   ],
   "source": [
    "w1.shape\n",
    "new_w1.shape"
   ]
  },
  {
   "cell_type": "code",
   "execution_count": 151,
   "metadata": {},
   "outputs": [
    {
     "name": "stdout",
     "output_type": "stream",
     "text": [
      "(17.292453370407944, 0.103)\n",
      "(2.302585082994046, 0.09898181818181818)\n"
     ]
    }
   ],
   "source": [
    "print(J_CE(w1, b1, w2, b2, trainingImages, trainingLabels))    \n",
    "print(J_CE(new_w1, new_b1, new_w2, new_b2, trainingImages, trainingLabels))"
   ]
  },
  {
   "cell_type": "code",
   "execution_count": 157,
   "metadata": {},
   "outputs": [],
   "source": [
    "def stochastic_gradient_descent(w1, b1, w2, b2, images, labels, minibatch_size, epsilon):\n",
    "    indices=np.arange(images.shape[0])\n",
    "    np.random.shuffle(indices)\n",
    "    for minibatch_indices in np.split(indices, images.shape[0]/minibatch_size):\n",
    "        minibatch_x=images[minibatch_indices,:]\n",
    "        minibatch_y=labels[minibatch_indices]\n",
    "        \n",
    "        z1=np.dot(minibatch_x, w1)+b1\n",
    "        h1=relu(z1)\n",
    "        z2=np.dot(h1, w2)+b2\n",
    "        y_hat=softmax(z2)\n",
    "        \n",
    "        dj_dz2=y_hat-minibatch_y\n",
    "        dj_dh1=np.dot(dj_dz2, w2.T)\n",
    "        dh1_dz1=relu_prime(z1)\n",
    "        \n",
    "        g=np.multiply(dj_dh1, dh1_dz1).T\n",
    "        dj_dw1=np.outer(g,minibatch_x.T)\n",
    "        dj_db1=g\n",
    "        dj_dw2=np.dot(dj_dz2.T,h1)\n",
    "        dj_db2=dj_dz2\n",
    "        w1=w1-epsilon*(np.sum(dj_dw1)/minibatch_size)\n",
    "        b1=b1-epsilon*(np.sum(dj_db1)/minibatch_size)\n",
    "        w2=w2-epsilon*(np.sum(dj_dw2)/minibatch_size)\n",
    "        b2=b2-epsilon*(np.sum(dj_db2)/minibatch_size)\n",
    "    return w1, b1, w2, b2"
   ]
  },
  {
   "cell_type": "code",
   "execution_count": 23,
   "metadata": {},
   "outputs": [
    {
     "data": {
      "text/plain": [
       "55000"
      ]
     },
     "execution_count": 23,
     "metadata": {},
     "output_type": "execute_result"
    }
   ],
   "source": [
    "images.shape[0]/minibatch_size"
   ]
  },
  {
   "cell_type": "code",
   "execution_count": 32,
   "metadata": {},
   "outputs": [],
   "source": [
    "images=trainingImages\n",
    "labels=trainingLabels\n",
    "indices=np.arange(images.shape[0])\n",
    "np.random.shuffle(indices)"
   ]
  },
  {
   "cell_type": "code",
   "execution_count": 33,
   "metadata": {},
   "outputs": [
    {
     "data": {
      "text/plain": [
       "array([27673, 11737,  1161, ...,  7794, 19912,  8606])"
      ]
     },
     "execution_count": 33,
     "metadata": {},
     "output_type": "execute_result"
    }
   ],
   "source": [
    "indices"
   ]
  },
  {
   "cell_type": "code",
   "execution_count": 37,
   "metadata": {},
   "outputs": [
    {
     "name": "stdout",
     "output_type": "stream",
     "text": [
      "((11000, 784), (11000, 10))\n",
      "((11000, 784), (11000, 10))\n",
      "((11000, 784), (11000, 10))\n",
      "((11000, 784), (11000, 10))\n",
      "((11000, 784), (11000, 10))\n"
     ]
    }
   ],
   "source": [
    "minibatch_size=10\n",
    "for minibatch_indices in np.split(indices, images.shape[0]/minibatch_size):\n",
    "    minibatch_x=images[minibatch_indices,:]\n",
    "    minibatch_y=labels[minibatch_indices]\n",
    "    print(minibatch_x.shape, minibatch_y.shape)"
   ]
  },
  {
   "cell_type": "code",
   "execution_count": null,
   "metadata": {},
   "outputs": [],
   "source": []
  },
  {
   "cell_type": "code",
   "execution_count": 18,
   "metadata": {},
   "outputs": [],
   "source": [
    "trainingImages = np.load(\"/home/kavin/Silo/CollegeWork/DeepLearning/HW/HW5/mnist_train_images.npy\")\n",
    "trainingLabels = np.load(\"/home/kavin/Silo/CollegeWork/DeepLearning/HW/HW5/mnist_train_labels.npy\")\n",
    "validationImages = np.load(\"/home/kavin/Silo/CollegeWork/DeepLearning/HW/HW5/mnist_validation_images.npy\")\n",
    "validationLabels = np.load(\"/home/kavin/Silo/CollegeWork/DeepLearning/HW/HW5/mnist_validation_labels.npy\")\n",
    "testingImages = np.load(\"/home/kavin/Silo/CollegeWork/DeepLearning/HW/HW5/mnist_test_images.npy\")\n",
    "testingLabels = np.load(\"/home/kavin/Silo/CollegeWork/DeepLearning/HW/HW5/mnist_test_labels.npy\")"
   ]
  },
  {
   "cell_type": "code",
   "execution_count": 11,
   "metadata": {},
   "outputs": [],
   "source": [
    "np.random.shuffle(A)"
   ]
  },
  {
   "cell_type": "code",
   "execution_count": 12,
   "metadata": {},
   "outputs": [
    {
     "data": {
      "text/plain": [
       "array([[3, 4, 5],\n",
       "       [6, 7, 8],\n",
       "       [0, 1, 2]])"
      ]
     },
     "execution_count": 12,
     "metadata": {},
     "output_type": "execute_result"
    }
   ],
   "source": [
    "A"
   ]
  }
 ],
 "metadata": {
  "kernelspec": {
   "display_name": "Python 2",
   "language": "python",
   "name": "python2"
  },
  "language_info": {
   "codemirror_mode": {
    "name": "ipython",
    "version": 2
   },
   "file_extension": ".py",
   "mimetype": "text/x-python",
   "name": "python",
   "nbconvert_exporter": "python",
   "pygments_lexer": "ipython2",
   "version": "2.7.12"
  }
 },
 "nbformat": 4,
 "nbformat_minor": 2
}
